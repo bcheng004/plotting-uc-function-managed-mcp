{
 "cells": [
  {
   "cell_type": "code",
   "execution_count": 0,
   "metadata": {
    "application/vnd.databricks.v1+cell": {
     "cellMetadata": {
      "byteLimit": 2048000,
      "rowLimit": 10000
     },
     "inputWidgets": {},
     "nuid": "aaef4d60-76dd-44bd-b879-23c1d30283b4",
     "showTitle": true,
     "tableResultSettingsMap": {},
     "title": "Package Update and Library Restart"
    }
   },
   "outputs": [],
   "source": [
    "%pip install -qqqq -U databricks-sdk unitycatalog-ai[databricks]\n",
    "dbutils.library.restartPython()"
   ]
  },
  {
   "cell_type": "code",
   "execution_count": 0,
   "metadata": {
    "application/vnd.databricks.v1+cell": {
     "cellMetadata": {
      "byteLimit": 2048000,
      "rowLimit": 10000
     },
     "inputWidgets": {},
     "nuid": "864d77b2-868f-489b-ae33-b5db05d138de",
     "showTitle": true,
     "tableResultSettingsMap": {},
     "title": "Notebook Configure and Library Load"
    }
   },
   "outputs": [],
   "source": [
    "%load_ext autoreload\n",
    "%autoreload 2\n",
    "import warnings\n",
    "\n",
    "warnings.simplefilter(action=\"ignore\")"
   ]
  },
  {
   "cell_type": "code",
   "execution_count": 0,
   "metadata": {
    "application/vnd.databricks.v1+cell": {
     "cellMetadata": {
      "byteLimit": 2048000,
      "rowLimit": 10000
     },
     "inputWidgets": {},
     "nuid": "359bbc44-f867-4d98-a71a-6c470e952185",
     "showTitle": true,
     "tableResultSettingsMap": {},
     "title": "Set Widget Inputs for Databricks Space"
    }
   },
   "outputs": [],
   "source": [
    "dbutils.widgets.text(\"space_id\", \"\", \"space_id\")\n",
    "dbutils.widgets.text(name=\"catalog\", defaultValue=\"bo_cheng_dnb_demos\", label=\"catalog\")\n",
    "dbutils.widgets.text(name=\"schema\", defaultValue=\"agents\", label=\"schema\")"
   ]
  },
  {
   "cell_type": "code",
   "execution_count": 0,
   "metadata": {
    "application/vnd.databricks.v1+cell": {
     "cellMetadata": {
      "byteLimit": 2048000,
      "rowLimit": 10000
     },
     "inputWidgets": {},
     "nuid": "ded136ab-4d13-45af-8c57-ff8399e3c0ee",
     "showTitle": true,
     "tableResultSettingsMap": {},
     "title": "Retrieve Space ID from Databricks Widget"
    }
   },
   "outputs": [],
   "source": [
    "space_id = dbutils.widgets.get(\"space_id\")"
   ]
  },
  {
   "cell_type": "code",
   "execution_count": 0,
   "metadata": {
    "application/vnd.databricks.v1+cell": {
     "cellMetadata": {
      "byteLimit": 2048000,
      "rowLimit": 10000
     },
     "inputWidgets": {},
     "nuid": "f1bb9e7d-8945-4349-b008-f8e096035df6",
     "showTitle": true,
     "tableResultSettingsMap": {},
     "title": "Query Trip Distance and Fare Amount from Trips Table"
    }
   },
   "outputs": [],
   "source": [
    "from databricks.sdk import WorkspaceClient\n",
    "\n",
    "w = WorkspaceClient()\n",
    "content = \"Can you select trip distance and fare amount from the trips table\"\n",
    "initial_conversation = w.genie.start_conversation_and_wait(\n",
    "    space_id=space_id, content=content\n",
    ")"
   ]
  },
  {
   "cell_type": "code",
   "execution_count": 0,
   "metadata": {
    "application/vnd.databricks.v1+cell": {
     "cellMetadata": {
      "byteLimit": 2048000,
      "rowLimit": 10000
     },
     "inputWidgets": {},
     "nuid": "92ce0857-fc65-415d-a02d-55928eb9dab5",
     "showTitle": true,
     "tableResultSettingsMap": {},
     "title": "Get Initial Attachment Query Result"
    }
   },
   "outputs": [],
   "source": [
    "initial_attachment_query_result = w.genie.get_message_attachment_query_result(\n",
    "    space_id=space_id,\n",
    "    conversation_id=initial_conversation.conversation_id,\n",
    "    message_id=initial_conversation.message_id,\n",
    "    attachment_id=initial_conversation.attachments[0].attachment_id,\n",
    ")"
   ]
  },
  {
   "cell_type": "code",
   "execution_count": 0,
   "metadata": {
    "application/vnd.databricks.v1+cell": {
     "cellMetadata": {
      "byteLimit": 2048000,
      "rowLimit": 10000
     },
     "inputWidgets": {},
     "nuid": "1de0ad05-0847-43f3-a9d1-f31962fadae8",
     "showTitle": true,
     "tableResultSettingsMap": {},
     "title": "Extract Initial Result Data Array"
    }
   },
   "outputs": [],
   "source": [
    "result_data_array = initial_attachment_query_result.statement_response.result.data_array"
   ]
  },
  {
   "cell_type": "code",
   "execution_count": 0,
   "metadata": {
    "application/vnd.databricks.v1+cell": {
     "cellMetadata": {
      "byteLimit": 2048000,
      "rowLimit": 10000
     },
     "inputWidgets": {},
     "nuid": "f57c7596-c1ff-4210-b6cd-7b02efe73007",
     "showTitle": false,
     "tableResultSettingsMap": {},
     "title": ""
    }
   },
   "outputs": [],
   "source": [
    "import pandas as pd\n",
    "\n",
    "df = pd.DataFrame(result_data_array, columns=[\"x\", \"y\"])\n",
    "df[\"x\"] = df[\"x\"].astype(float)\n",
    "df[\"y\"] = df[\"y\"].astype(float)"
   ]
  },
  {
   "cell_type": "code",
   "execution_count": 0,
   "metadata": {
    "application/vnd.databricks.v1+cell": {
     "cellMetadata": {
      "byteLimit": 2048000,
      "rowLimit": 10000
     },
     "inputWidgets": {},
     "nuid": "d968115e-f354-482c-9c71-aff238a11162",
     "showTitle": true,
     "tableResultSettingsMap": {},
     "title": "Databricks Function Client Setup"
    }
   },
   "outputs": [],
   "source": [
    "from unitycatalog.ai.core.databricks import DatabricksFunctionClient\n",
    "\n",
    "client = DatabricksFunctionClient()\n",
    "\n",
    "CATALOG = dbutils.widgets.get(\"catalog\")\n",
    "SCHEMA = dbutils.widgets.get(\"schema\")\n",
    "my_callable = client.get_function_as_callable(\n",
    "    function_name=f\"{CATALOG}.{SCHEMA}.plot_to_json\"\n",
    ")"
   ]
  },
  {
   "cell_type": "code",
   "execution_count": 0,
   "metadata": {
    "application/vnd.databricks.v1+cell": {
     "cellMetadata": {
      "byteLimit": 2048000,
      "rowLimit": 10000
     },
     "inputWidgets": {},
     "nuid": "1ed105eb-055d-4d2e-9bd3-f4d5a3b9ce22",
     "showTitle": true,
     "tableResultSettingsMap": {},
     "title": "Convert DataFrame to JSON String"
    }
   },
   "outputs": [],
   "source": [
    "import json\n",
    "\n",
    "input_json_str = json.dumps({\"rows\": json.loads(df.to_json(orient=\"records\"))})"
   ]
  },
  {
   "cell_type": "code",
   "execution_count": 0,
   "metadata": {
    "application/vnd.databricks.v1+cell": {
     "cellMetadata": {
      "byteLimit": 2048000,
      "rowLimit": 10000
     },
     "inputWidgets": {},
     "nuid": "719f0f23-9614-4b16-81b8-25d3217d679b",
     "showTitle": true,
     "tableResultSettingsMap": {},
     "title": "Convert JSON String to Plotly Figure and Display"
    }
   },
   "outputs": [],
   "source": [
    "import plotly.io as pio\n",
    "\n",
    "json_string = my_callable(payload_json=input_json_str)\n",
    "fig = pio.from_json(json_string)\n",
    "fig.show()"
   ]
  }
 ],
 "metadata": {
  "application/vnd.databricks.v1+notebook": {
   "computePreferences": {
    "hardware": {
     "accelerator": null,
     "gpuPoolId": null,
     "memory": null
    }
   },
   "dashboards": [],
   "environmentMetadata": {
    "base_environment": "",
    "environment_version": "4"
   },
   "inputWidgetPreferences": null,
   "language": "python",
   "notebookMetadata": {
    "pythonIndentUnit": 2
   },
   "notebookName": "02-test-genie-uc-function-mcp",
   "widgets": {
    "catalog": {
     "currentValue": "bo_cheng_dnb_demos",
     "nuid": "2086d3fc-6359-4dc5-adca-0d84906a0d5f",
     "typedWidgetInfo": {
      "autoCreated": false,
      "defaultValue": "bo_cheng_dnb_demos",
      "label": "catalog",
      "name": "catalog",
      "options": {
       "widgetDisplayType": "Text",
       "validationRegex": null
      },
      "parameterDataType": "String"
     },
     "widgetInfo": {
      "widgetType": "text",
      "defaultValue": "bo_cheng_dnb_demos",
      "label": "catalog",
      "name": "catalog",
      "options": {
       "widgetType": "text",
       "autoCreated": false,
       "validationRegex": null
      }
     }
    },
    "schema": {
     "currentValue": "agents",
     "nuid": "efc62fc1-da0e-46ed-89bc-4d9a398e4cc2",
     "typedWidgetInfo": {
      "autoCreated": false,
      "defaultValue": "agents",
      "label": "schema",
      "name": "schema",
      "options": {
       "widgetDisplayType": "Text",
       "validationRegex": null
      },
      "parameterDataType": "String"
     },
     "widgetInfo": {
      "widgetType": "text",
      "defaultValue": "agents",
      "label": "schema",
      "name": "schema",
      "options": {
       "widgetType": "text",
       "autoCreated": false,
       "validationRegex": null
      }
     }
    },
    "space_id": {
     "currentValue": "01f0ab8c079d17b8a00584e70d2ac18c",
     "nuid": "14b8ab75-8180-4b66-bbed-1c2d9cdb1278",
     "typedWidgetInfo": {
      "autoCreated": false,
      "defaultValue": "",
      "label": "space_id",
      "name": "space_id",
      "options": {
       "widgetDisplayType": "Text",
       "validationRegex": null
      },
      "parameterDataType": "String"
     },
     "widgetInfo": {
      "widgetType": "text",
      "defaultValue": "",
      "label": "space_id",
      "name": "space_id",
      "options": {
       "widgetType": "text",
       "autoCreated": null,
       "validationRegex": null
      }
     }
    }
   }
  },
  "language_info": {
   "name": "python"
  }
 },
 "nbformat": 4,
 "nbformat_minor": 0
}
