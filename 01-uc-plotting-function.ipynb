{
 "cells": [
  {
   "cell_type": "code",
   "execution_count": 0,
   "metadata": {
    "application/vnd.databricks.v1+cell": {
     "cellMetadata": {
      "byteLimit": 2048000,
      "rowLimit": 10000
     },
     "inputWidgets": {},
     "nuid": "7cce6621-6434-485f-b052-276da0d0cc32",
     "showTitle": true,
     "tableResultSettingsMap": {},
     "title": "Library Installation and Restart"
    }
   },
   "outputs": [],
   "source": [
    "%pip install -qqqq -U unitycatalog-ai[databricks] databricks-agents databricks-mcp\n",
    "dbutils.library.restartPython()"
   ]
  },
  {
   "cell_type": "code",
   "execution_count": 0,
   "metadata": {
    "application/vnd.databricks.v1+cell": {
     "cellMetadata": {
      "byteLimit": 2048000,
      "rowLimit": 10000
     },
     "inputWidgets": {},
     "nuid": "0afe7a17-d7b0-42d9-b9fe-94e80a070b56",
     "showTitle": true,
     "tableResultSettingsMap": {},
     "title": "Notebook Setup and Warning Suppression"
    }
   },
   "outputs": [],
   "source": [
    "%load_ext autoreload\n",
    "%autoreload 2\n",
    "import warnings\n",
    "\n",
    "warnings.simplefilter(action=\"ignore\")"
   ]
  },
  {
   "cell_type": "code",
   "execution_count": 0,
   "metadata": {
    "application/vnd.databricks.v1+cell": {
     "cellMetadata": {
      "byteLimit": 2048000,
      "rowLimit": 10000
     },
     "inputWidgets": {},
     "nuid": "f663d9fa-71a0-4875-9a7d-4d4212f60e1a",
     "showTitle": true,
     "tableResultSettingsMap": {},
     "title": "Widget Configuration for Database Catalog and Schema"
    }
   },
   "outputs": [],
   "source": [
    "dbutils.widgets.text(name=\"catalog\", defaultValue=\"bo_cheng_dnb_demos\", label=\"catalog\")\n",
    "dbutils.widgets.text(name=\"schema\", defaultValue=\"agents\", label=\"schema\")\n",
    "dbutils.widgets.text(name=\"space_id\", defaultValue=\"\", label=\"space_id\")"
   ]
  },
  {
   "cell_type": "code",
   "execution_count": 0,
   "metadata": {
    "application/vnd.databricks.v1+cell": {
     "cellMetadata": {
      "byteLimit": 2048000,
      "rowLimit": 10000
     },
     "inputWidgets": {},
     "nuid": "4f1c92e0-6cc8-49a3-ab32-6ee1400a9f7a",
     "showTitle": true,
     "tableResultSettingsMap": {},
     "title": "Databricks Function Client Setup"
    }
   },
   "outputs": [],
   "source": [
    "from unitycatalog.ai.core.databricks import DatabricksFunctionClient\n",
    "\n",
    "client = DatabricksFunctionClient()\n",
    "\n",
    "CATALOG = dbutils.widgets.get(\"catalog\")\n",
    "SCHEMA = dbutils.widgets.get(\"schema\")\n",
    "SPACE_ID = dbutils.widgets.get(\"space_id\")"
   ]
  },
  {
   "cell_type": "code",
   "execution_count": 0,
   "metadata": {
    "application/vnd.databricks.v1+cell": {
     "cellMetadata": {
      "byteLimit": 2048000,
      "rowLimit": 10000
     },
     "inputWidgets": {},
     "nuid": "ccf60f54-9568-441d-9397-34cd0c7304f5",
     "showTitle": true,
     "tableResultSettingsMap": {},
     "title": "Delete Plot to JSON Function"
    }
   },
   "outputs": [],
   "source": [
    "# client.delete_function(function_name=f\"{CATALOG}.{SCHEMA}.genie_to_chart\")"
   ]
  },
  {
   "cell_type": "code",
   "execution_count": 0,
   "metadata": {
    "application/vnd.databricks.v1+cell": {
     "cellMetadata": {
      "byteLimit": 2048000,
      "rowLimit": 10000
     },
     "inputWidgets": {},
     "nuid": "7d89cd2d-dc2f-4cbf-bf42-8a286c890ceb",
     "showTitle": true,
     "tableResultSettingsMap": {},
     "title": "Transform Genie MCP Response to Plotly Chart"
    }
   },
   "outputs": [],
   "source": [
    "def genie_to_chart(genie_response_json: str, chart_type: str) -> str:\n",
    "    \"\"\"\n",
    "    Transform Genie MCP response into a Plotly chart.\n",
    "    This function handles all data extraction and transformation from Genie's nested JSON format.\n",
    "\n",
    "    Args:\n",
    "        genie_response_json (str): Raw JSON string from Genie MCP query_space tool\n",
    "        chart_type (str): Type of chart - \"bar\", \"line\", or \"pie\"\n",
    "\n",
    "    Returns:\n",
    "        str: Plotly JSON string for direct rendering with Plotly\n",
    "    \"\"\"\n",
    "    import json\n",
    "    import plotly.express as px\n",
    "    import pandas as pd\n",
    "\n",
    "    # Parse Genie response - handle both full wrapper and extracted content\n",
    "    genie_data = json.loads(genie_response_json)\n",
    "\n",
    "    # If there's a 'content' field, parse it (double-parse scenario)\n",
    "    if \"content\" in genie_data:\n",
    "        content_data = (\n",
    "            json.loads(genie_data[\"content\"])\n",
    "            if isinstance(genie_data[\"content\"], str)\n",
    "            else genie_data[\"content\"]\n",
    "        )\n",
    "    else:\n",
    "        # Already the content (no wrapper)\n",
    "        content_data = genie_data\n",
    "\n",
    "    # Extract columns and rows from statement_response\n",
    "    columns_info = content_data[\"statement_response\"][\"manifest\"][\"schema\"][\"columns\"]\n",
    "    column_names = [col[\"name\"] for col in columns_info]\n",
    "\n",
    "    data_array = content_data[\"statement_response\"][\"result\"][\"data_array\"]\n",
    "    rows = [[value[\"string_value\"] for value in row[\"values\"]] for row in data_array]\n",
    "\n",
    "    # Create DataFrame\n",
    "    df = pd.DataFrame(rows, columns=column_names)\n",
    "\n",
    "    # Convert all columns to appropriate types\n",
    "    for col in df.columns:\n",
    "        df[col] = pd.to_numeric(df[col], errors=\"ignore\")\n",
    "\n",
    "    # Column selection: string columns for X, last numeric for Y\n",
    "    string_cols = df.select_dtypes(include=[\"object\", \"string\"]).columns\n",
    "    numeric_cols = df.select_dtypes(include=\"number\").columns\n",
    "\n",
    "    x_col = string_cols[0] if len(string_cols) > 0 else df.columns[0]\n",
    "    y_col = numeric_cols[-1] if len(numeric_cols) > 0 else df.columns[-1]\n",
    "\n",
    "    # Generate chart\n",
    "    chart_functions = {\n",
    "        \"bar\": lambda: px.bar(df, x=x_col, y=y_col, title=f\"{y_col} by {x_col}\"),\n",
    "        \"line\": lambda: px.line(\n",
    "            df, x=x_col, y=y_col, title=f\"{y_col} by {x_col}\", markers=True\n",
    "        ),\n",
    "        \"pie\": lambda: px.pie(\n",
    "            df, names=x_col, values=y_col, title=f\"{y_col} by {x_col}\"\n",
    "        ),\n",
    "    }\n",
    "\n",
    "    chart_type_key = chart_type.lower().strip()\n",
    "    if chart_type_key not in chart_functions:\n",
    "        raise ValueError(f\"Unsupported chart type: {chart_type}\")\n",
    "\n",
    "    fig = chart_functions[chart_type_key]()\n",
    "\n",
    "    # Return structured response with Plotly JSON\n",
    "\n",
    "    response = {\n",
    "        \"plotly_json\": json.loads(fig.to_json()),\n",
    "        \"chart_type\": chart_type_key,\n",
    "    }\n",
    "    return json.dumps(response)\n",
    "\n",
    "\n",
    "# Create the function and supply the dependency in standard PyPI format\n",
    "client.create_python_function(\n",
    "    func=genie_to_chart,\n",
    "    catalog=CATALOG,\n",
    "    schema=SCHEMA,\n",
    "    replace=True,\n",
    "    dependencies=[\"plotly\", \"pandas\"],\n",
    ")"
   ]
  }
 ],
 "metadata": {
  "application/vnd.databricks.v1+notebook": {
   "computePreferences": {
    "hardware": {
     "accelerator": null,
     "gpuPoolId": null,
     "memory": null
    }
   },
   "dashboards": [],
   "environmentMetadata": {
    "base_environment": "",
    "environment_version": "4"
   },
   "inputWidgetPreferences": null,
   "language": "python",
   "notebookMetadata": {
    "pythonIndentUnit": 2
   },
   "notebookName": "01-uc-plotting-function",
   "widgets": {
    "catalog": {
     "currentValue": "bo_cheng_dnb_demos",
     "nuid": "fea57c31-27e6-4dbf-909b-64ae236a2bed",
     "typedWidgetInfo": {
      "autoCreated": false,
      "defaultValue": "bo_cheng_dnb_demos",
      "label": "catalog",
      "name": "catalog",
      "options": {
       "widgetDisplayType": "Text",
       "validationRegex": null
      },
      "parameterDataType": "String"
     },
     "widgetInfo": {
      "widgetType": "text",
      "defaultValue": "bo_cheng_dnb_demos",
      "label": "catalog",
      "name": "catalog",
      "options": {
       "widgetType": "text",
       "autoCreated": null,
       "validationRegex": null
      }
     }
    },
    "schema": {
     "currentValue": "agents",
     "nuid": "a57cd668-acd8-4545-b9c8-3b62b42063a3",
     "typedWidgetInfo": {
      "autoCreated": false,
      "defaultValue": "agents",
      "label": "schema",
      "name": "schema",
      "options": {
       "widgetDisplayType": "Text",
       "validationRegex": null
      },
      "parameterDataType": "String"
     },
     "widgetInfo": {
      "widgetType": "text",
      "defaultValue": "agents",
      "label": "schema",
      "name": "schema",
      "options": {
       "widgetType": "text",
       "autoCreated": null,
       "validationRegex": null
      }
     }
    },
    "space_id": {
     "currentValue": "01f0ab8c079d17b8a00584e70d2ac18c",
     "nuid": "e8d3f7f0-183c-4634-b0ac-78b56d2588c4",
     "typedWidgetInfo": {
      "autoCreated": false,
      "defaultValue": "",
      "label": "space_id",
      "name": "space_id",
      "options": {
       "widgetDisplayType": "Text",
       "validationRegex": null
      },
      "parameterDataType": "String"
     },
     "widgetInfo": {
      "widgetType": "text",
      "defaultValue": "",
      "label": "space_id",
      "name": "space_id",
      "options": {
       "widgetType": "text",
       "autoCreated": null,
       "validationRegex": null
      }
     }
    }
   }
  },
  "language_info": {
   "name": "python"
  }
 },
 "nbformat": 4,
 "nbformat_minor": 0
}
