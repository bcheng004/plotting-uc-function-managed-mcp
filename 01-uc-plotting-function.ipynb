{
 "cells": [
  {
   "cell_type": "code",
   "execution_count": 0,
   "metadata": {
    "application/vnd.databricks.v1+cell": {
     "cellMetadata": {
      "byteLimit": 2048000,
      "rowLimit": 10000
     },
     "inputWidgets": {},
     "nuid": "7cce6621-6434-485f-b052-276da0d0cc32",
     "showTitle": true,
     "tableResultSettingsMap": {},
     "title": "Library Installation and Restart"
    }
   },
   "outputs": [],
   "source": [
    "%pip install -qqqq -U unitycatalog-ai[databricks]\n",
    "dbutils.library.restartPython()"
   ]
  },
  {
   "cell_type": "code",
   "execution_count": 0,
   "metadata": {
    "application/vnd.databricks.v1+cell": {
     "cellMetadata": {
      "byteLimit": 2048000,
      "rowLimit": 10000
     },
     "inputWidgets": {},
     "nuid": "0afe7a17-d7b0-42d9-b9fe-94e80a070b56",
     "showTitle": true,
     "tableResultSettingsMap": {},
     "title": "Notebook Setup and Warning Suppression"
    }
   },
   "outputs": [],
   "source": [
    "%load_ext autoreload\n",
    "%autoreload 2\n",
    "import warnings\n",
    "\n",
    "warnings.simplefilter(action=\"ignore\")"
   ]
  },
  {
   "cell_type": "code",
   "execution_count": 0,
   "metadata": {
    "application/vnd.databricks.v1+cell": {
     "cellMetadata": {
      "byteLimit": 2048000,
      "rowLimit": 10000
     },
     "inputWidgets": {},
     "nuid": "f663d9fa-71a0-4875-9a7d-4d4212f60e1a",
     "showTitle": true,
     "tableResultSettingsMap": {},
     "title": "Widget Configuration for Database Catalog and Schema"
    }
   },
   "outputs": [],
   "source": [
    "dbutils.widgets.text(name=\"catalog\", defaultValue=\"bo_cheng_dnb_demos\", label=\"catalog\")\n",
    "dbutils.widgets.text(name=\"schema\", defaultValue=\"agents\", label=\"schema\")"
   ]
  },
  {
   "cell_type": "code",
   "execution_count": 0,
   "metadata": {
    "application/vnd.databricks.v1+cell": {
     "cellMetadata": {
      "byteLimit": 2048000,
      "rowLimit": 10000
     },
     "inputWidgets": {},
     "nuid": "4f1c92e0-6cc8-49a3-ab32-6ee1400a9f7a",
     "showTitle": true,
     "tableResultSettingsMap": {},
     "title": "Databricks Function Client Setup"
    }
   },
   "outputs": [],
   "source": [
    "from unitycatalog.ai.core.databricks import DatabricksFunctionClient\n",
    "\n",
    "client = DatabricksFunctionClient()\n",
    "\n",
    "CATALOG = dbutils.widgets.get(\"catalog\")\n",
    "SCHEMA = dbutils.widgets.get(\"schema\")"
   ]
  },
  {
   "cell_type": "code",
   "execution_count": 0,
   "metadata": {
    "application/vnd.databricks.v1+cell": {
     "cellMetadata": {
      "byteLimit": 2048000,
      "rowLimit": 10000
     },
     "inputWidgets": {},
     "nuid": "4c8837bd-b860-424d-a98e-7e204e1e6b32",
     "showTitle": true,
     "tableResultSettingsMap": {},
     "title": "Function to Plot and Convert to JSON"
    }
   },
   "outputs": [],
   "source": [
    "# Define a function that requires an external PyPI dependency\n",
    "\n",
    "\n",
    "def plot_to_json(payload_json: str) -> str:\n",
    "    \"\"\"\n",
    "    A function to plot a line chart and return the JSON representation of the chart.\n",
    "\n",
    "    Args:\n",
    "        payload_json (str): JSON string with shape {\"rows\": [{\"x\": <float>, \"y\": <float>}, ...]}\n",
    "\n",
    "    Returns:\n",
    "        A string json representation of the plotly graph\n",
    "    \"\"\"\n",
    "\n",
    "    import plotly.express as px  # NOTE that you must still import the library to use within the function.\n",
    "    import pandas as pd\n",
    "    import json\n",
    "\n",
    "    obj = json.loads(payload_json)\n",
    "    rows = obj.get(\"rows\")\n",
    "    df = pd.DataFrame(rows)\n",
    "    fig = px.line(df, x=\"x\", y=\"y\", title=\"Unsorted Input\")\n",
    "\n",
    "    return str(fig.to_json())\n",
    "\n",
    "\n",
    "# Create the function and supply the dependency in standard PyPI format\n",
    "client.create_python_function(\n",
    "    func=plot_to_json,\n",
    "    catalog=CATALOG,\n",
    "    schema=SCHEMA,\n",
    "    replace=True,\n",
    "    dependencies=[\"plotly\", \"pandas\"],\n",
    ")"
   ]
  },
  {
   "cell_type": "code",
   "execution_count": 0,
   "metadata": {
    "application/vnd.databricks.v1+cell": {
     "cellMetadata": {
      "byteLimit": 2048000,
      "rowLimit": 10000
     },
     "inputWidgets": {},
     "nuid": "818b6c3f-829c-4a5c-8e39-1a4f7a15e889",
     "showTitle": true,
     "tableResultSettingsMap": {},
     "title": "Function Client Setup for Plot to JSON"
    }
   },
   "outputs": [],
   "source": [
    "my_callable = client.get_function_as_callable(\n",
    "    function_name=f\"{CATALOG}.{SCHEMA}.plot_to_json\"\n",
    ")"
   ]
  },
  {
   "cell_type": "code",
   "execution_count": 0,
   "metadata": {
    "application/vnd.databricks.v1+cell": {
     "cellMetadata": {
      "byteLimit": 2048000,
      "rowLimit": 10000
     },
     "inputWidgets": {},
     "nuid": "90747cc9-e882-4cda-8b2b-08b925032040",
     "showTitle": true,
     "tableResultSettingsMap": {},
     "title": "Plot JSON Conversion Visualization"
    }
   },
   "outputs": [],
   "source": [
    "import plotly.io as pio\n",
    "\n",
    "json_string = my_callable(payload_json='{\"rows\": [{\"x\": 1, \"y\": 1}, {\"x\": 2, \"y\": 2}]}')\n",
    "fig = pio.from_json(json_string)\n",
    "fig.show()"
   ]
  }
 ],
 "metadata": {
  "application/vnd.databricks.v1+notebook": {
   "computePreferences": {
    "hardware": {
     "accelerator": null,
     "gpuPoolId": null,
     "memory": null
    }
   },
   "dashboards": [],
   "environmentMetadata": {
    "base_environment": "",
    "environment_version": "4"
   },
   "inputWidgetPreferences": null,
   "language": "python",
   "notebookMetadata": {
    "pythonIndentUnit": 2
   },
   "notebookName": "01-uc-plotting-function",
   "widgets": {
    "catalog": {
     "currentValue": "bo_cheng_dnb_demos",
     "nuid": "fea57c31-27e6-4dbf-909b-64ae236a2bed",
     "typedWidgetInfo": {
      "autoCreated": false,
      "defaultValue": "bo_cheng_dnb_demos",
      "label": "catalog",
      "name": "catalog",
      "options": {
       "widgetDisplayType": "Text",
       "validationRegex": null
      },
      "parameterDataType": "String"
     },
     "widgetInfo": {
      "widgetType": "text",
      "defaultValue": "bo_cheng_dnb_demos",
      "label": "catalog",
      "name": "catalog",
      "options": {
       "widgetType": "text",
       "autoCreated": false,
       "validationRegex": null
      }
     }
    },
    "schema": {
     "currentValue": "agents",
     "nuid": "a57cd668-acd8-4545-b9c8-3b62b42063a3",
     "typedWidgetInfo": {
      "autoCreated": false,
      "defaultValue": "agents",
      "label": "schema",
      "name": "schema",
      "options": {
       "widgetDisplayType": "Text",
       "validationRegex": null
      },
      "parameterDataType": "String"
     },
     "widgetInfo": {
      "widgetType": "text",
      "defaultValue": "agents",
      "label": "schema",
      "name": "schema",
      "options": {
       "widgetType": "text",
       "autoCreated": false,
       "validationRegex": null
      }
     }
    }
   }
  },
  "language_info": {
   "name": "python"
  }
 },
 "nbformat": 4,
 "nbformat_minor": 0
}
